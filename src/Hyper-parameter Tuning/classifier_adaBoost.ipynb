{
 "cells": [
  {
   "cell_type": "code",
   "execution_count": 2,
   "metadata": {},
   "outputs": [
    {
     "ename": "SyntaxError",
     "evalue": "invalid syntax (3275401031.py, line 9)",
     "output_type": "error",
     "traceback": [
      "\u001b[0;36m  Cell \u001b[0;32mIn[2], line 9\u001b[0;36m\u001b[0m\n\u001b[0;31m    from '../utils.py' import model_predict, model_evaluate, model_predict_evaluate\u001b[0m\n\u001b[0m         ^\u001b[0m\n\u001b[0;31mSyntaxError\u001b[0m\u001b[0;31m:\u001b[0m invalid syntax\n"
     ]
    }
   ],
   "source": [
    "import pandas as pd\n",
    "import numpy as np\n",
    "import matplotlib.pyplot as plt\n",
    "\n",
    "import warnings\n",
    "warnings.filterwarnings('ignore')\n",
    "\n",
    "from data_structs import NewsDataLoader, EvaluationDataLoader, ScorePackage\n",
    "from utils import model_predict, model_evaluate, model_predict_evaluate\n",
    "\n",
    "#importing the data\n",
    "news = pd.read_csv('../dataset_processed/fakeNews_titleStemming_Sampled.csv', index_col=0)\n",
    "news.reset_index(inplace=True)\n",
    "\n",
    "from sklearn.model_selection import train_test_split\n",
    "train_news, test_news = train_test_split(news, test_size=0.2, \n",
    "                                         random_state=7)\n",
    "\n",
    "train_news_predictors_rnn = train_news['title']\n",
    "train_news_predictors = train_news.drop(columns = ['title', 'label'])\n",
    "train_news_target = train_news['label']\n",
    "train_news_loader = NewsDataLoader(train_news_predictors, train_news_target)\n",
    "train_news_loader_rnn = NewsDataLoader(train_news_predictors_rnn, train_news_target)\n",
    "\n",
    "test_news_predictors_rnn = test_news['title']\n",
    "test_news_predictors = test_news.drop(columns = ['title', 'label'])\n",
    "test_news_target = test_news['label']\n",
    "test_news_loader = NewsDataLoader(test_news_predictors, test_news_target)\n",
    "test_news_loader_rnn = NewsDataLoader(test_news_predictors_rnn, test_news_target)"
   ]
  },
  {
   "cell_type": "code",
   "execution_count": 2,
   "metadata": {},
   "outputs": [
    {
     "name": "stdout",
     "output_type": "stream",
     "text": [
      "AdaBoostClassifier(algorithm='SAMME', learning_rate=0.1, n_estimators=100)\n"
     ]
    },
    {
     "data": {
      "text/plain": [
       "-0.31512736071898406"
      ]
     },
     "execution_count": 2,
     "metadata": {},
     "output_type": "execute_result"
    }
   ],
   "source": [
    "from sklearn.ensemble import AdaBoostClassifier\n",
    "from sklearn.model_selection import GridSearchCV\n",
    "\n",
    "model_adaBoost = AdaBoostClassifier(n_estimators=100, \n",
    "                                    learning_rate=0.1, \n",
    "                                    algorithm = 'SAMME')\n",
    "\n",
    "parms_adaBoost = {\n",
    "         'n_estimators': [50, 100, 200, 400],\n",
    "         'learning_rate': [0.001, 0.1, 0.5],\n",
    "        }\n",
    "grid_adaBoost = GridSearchCV(\n",
    "    model_adaBoost, parms_adaBoost, cv = 5, scoring = 'neg_root_mean_squared_error')\n",
    "\n",
    "grid_adaBoost.fit(train_news_loader.predictors, \n",
    "                   train_news_loader.target)\n",
    "print(grid_adaBoost.best_estimator_)\n",
    "grid_adaBoost.best_score_"
   ]
  },
  {
   "cell_type": "code",
   "execution_count": 3,
   "metadata": {},
   "outputs": [
    {
     "name": "stdout",
     "output_type": "stream",
     "text": [
      "For <knn> evaluated on <train> Dataset:\n",
      "    - accuracy: 0.9\n",
      "    - precisionn: 0.988\n",
      "    - recall: 0.812\n",
      "    - f1 score: 0.899\n",
      "For <knn> evaluated on <test> Dataset:\n",
      "    - accuracy: 0.905\n",
      "    - precisionn: 0.988\n",
      "    - recall: 0.825\n",
      "    - f1 score: 0.905\n"
     ]
    },
    {
     "data": {
      "image/png": "[encoded data removed]",
      "text/plain": [
       "<Figure size 640x480 with 2 Axes>"
      ]
     },
     "metadata": {},
     "output_type": "display_data"
    }
   ],
   "source": [
    "model_adaBoost = grid_adaBoost.best_estimator_\n",
    "\n",
    "score_package_train_adaBoost, score_package_test_adaBoost = model_predict_evaluate(\n",
    "        model=model_adaBoost, \n",
    "        name_model='adaBoost', \n",
    "        train_news_loader=train_news_loader,\n",
    "        test_news_loader=test_news_loader\n",
    ")\n",
    "# train_score_packages['knn'] = score_package_train_knn\n",
    "# test_score_packages['knn'] = score_package_test_knn"
   ]
  }
 ],
 "metadata": {
  "kernelspec": {
   "display_name": "Python 3",
   "language": "python",
   "name": "python3"
  },
  "language_info": {
   "codemirror_mode": {
    "name": "ipython",
    "version": 3
   },
   "file_extension": ".py",
   "mimetype": "text/x-python",
   "name": "python",
   "nbconvert_exporter": "python",
   "pygments_lexer": "ipython3",
   "version": "3.9.8"
  },
  "orig_nbformat": 4
 },
 "nbformat": 4,
 "nbformat_minor": 2
}
