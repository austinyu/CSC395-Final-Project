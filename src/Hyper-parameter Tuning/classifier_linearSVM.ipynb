{
 "cells": [
  {
   "cell_type": "code",
   "execution_count": 2,
   "id": "6a9d618b",
   "metadata": {},
   "outputs": [],
   "source": [
    "import pandas as pd\n",
    "import numpy as np\n",
    "import matplotlib.pyplot as plt\n",
    "\n",
    "import warnings\n",
    "warnings.filterwarnings('ignore')\n",
    "\n",
    "from data_structs import NewsDataLoader, ScorePackage \n",
    "from utils import model_evaluation\n",
    "\n",
    "#importing the data\n",
    "news = pd.read_csv('../dataset_processed/fakeNews_titleStemming_Sampled.csv', index_col=0)\n",
    "news.reset_index(inplace=True)\n",
    "\n",
    "from sklearn.model_selection import train_test_split\n",
    "train_news, test_news = train_test_split(news, test_size=0.2, \n",
    "                                         random_state=7)\n",
    "\n",
    "train_news_predictors_rnn = train_news['title']\n",
    "train_news_predictors = train_news.drop(columns = ['title', 'label'])\n",
    "train_news_target = train_news['label']\n",
    "train_news_loader = NewsDataLoader(train_news_predictors, train_news_target)\n",
    "train_news_loader_rnn = NewsDataLoader(train_news_predictors_rnn, train_news_target)\n",
    "\n",
    "test_news_predictors_rnn = test_news['title']\n",
    "test_news_predictors = test_news.drop(columns = ['title', 'label'])\n",
    "test_news_target = test_news['label']\n",
    "test_news_loader = NewsDataLoader(test_news_predictors, test_news_target)\n",
    "test_news_loader_rnn = NewsDataLoader(test_news_predictors_rnn, test_news_target)"
   ]
  },
  {
   "cell_type": "code",
   "execution_count": 11,
   "id": "4e714eaa",
   "metadata": {},
   "outputs": [
    {
     "name": "stdout",
     "output_type": "stream",
     "text": [
      "SVC(C=0.1, kernel='linear')\n"
     ]
    },
    {
     "data": {
      "text/plain": [
       "0.8974610439141332"
      ]
     },
     "execution_count": 11,
     "metadata": {},
     "output_type": "execute_result"
    }
   ],
   "source": [
    "from sklearn.model_selection import train_test_split\n",
    "from sklearn.model_selection import GridSearchCV\n",
    "from sklearn import svm\n",
    "\n",
    "clf = svm.SVC(kernel = \"linear\") \n",
    "\n",
    "parms_svm = {'C': [0.001, 0.01, 0.1, 1]}\n",
    "grid= GridSearchCV(clf, parms_svm, cv=7, scoring='accuracy')\n",
    "grid.fit(train_news_predictors, train_news_target)\n",
    "print(grid.best_estimator_)\n",
    "grid.best_score_"
   ]
  },
  {
   "cell_type": "code",
   "execution_count": null,
   "id": "a2d618b6",
   "metadata": {},
   "outputs": [],
   "source": []
  }
 ],
 "metadata": {
  "kernelspec": {
   "display_name": "Python 3 (ipykernel)",
   "language": "python",
   "name": "python3"
  },
  "language_info": {
   "codemirror_mode": {
    "name": "ipython",
    "version": 3
   },
   "file_extension": ".py",
   "mimetype": "text/x-python",
   "name": "python",
   "nbconvert_exporter": "python",
   "pygments_lexer": "ipython3",
   "version": "3.9.8"
  }
 },
 "nbformat": 4,
 "nbformat_minor": 5
}
