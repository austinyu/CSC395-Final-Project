{
 "cells": [
  {
   "cell_type": "code",
   "execution_count": 7,
   "metadata": {},
   "outputs": [],
   "source": [
    "import pandas as pd\n",
    "import numpy as np\n",
    "import matplotlib.pyplot as plt\n",
    "\n",
    "import warnings\n",
    "warnings.filterwarnings('ignore')"
   ]
  },
  {
   "cell_type": "code",
   "execution_count": 8,
   "metadata": {},
   "outputs": [],
   "source": [
    "#importing the data\n",
    "news = pd.read_csv('./dataset_processed/fakeNews_titleStemming_Sampled.csv', index_col=0)\n",
    "news.reset_index(inplace=True)"
   ]
  },
  {
   "cell_type": "code",
   "execution_count": 9,
   "metadata": {},
   "outputs": [],
   "source": [
    "#recreating predictor and target variables\n",
    "\n",
    "from sklearn.model_selection import train_test_split\n",
    "train_news, test_news = train_test_split(news, test_size=0.2, random_state=7)\n",
    "\n",
    "\n",
    "train_news_predictors = train_news.drop(columns = ['label'])\n",
    "train_news_target = train_news['label']\n",
    "test_news_predictors = test_news.drop(columns = ['label'])\n",
    "test_news_target = test_news['label']"
   ]
  },
  {
   "attachments": {},
   "cell_type": "markdown",
   "metadata": {},
   "source": [
    "# KNN"
   ]
  },
  {
   "cell_type": "code",
   "execution_count": 10,
   "metadata": {},
   "outputs": [
    {
     "name": "stdout",
     "output_type": "stream",
     "text": [
      "KNeighborsClassifier(n_neighbors=10, p=1, weights='distance')\n"
     ]
    },
    {
     "data": {
      "text/plain": [
       "0.6138607388035305"
      ]
     },
     "execution_count": 10,
     "metadata": {},
     "output_type": "execute_result"
    }
   ],
   "source": [
    "from sklearn.neighbors import KNeighborsClassifier\n",
    "from sklearn.model_selection import GridSearchCV\n",
    "\n",
    "parms_knn = {\n",
    "         'n_neighbors': [10, 20, 30, 50, 100],\n",
    "         'weights': ['uniform','distance'],\n",
    "         'p': [1,2]\n",
    "        }\n",
    "\n",
    "\n",
    "# TODO: manipulate cv to optimize accuracy. Might make a difference \n",
    "grid = GridSearchCV(\n",
    "    KNeighborsClassifier(), parms_knn, cv = 7, scoring = 'accuracy')\n",
    "grid.fit(train_news_predictors, train_news_target)\n",
    "print(grid.best_estimator_)\n",
    "grid.best_score_"
   ]
  },
  {
   "cell_type": "code",
   "execution_count": null,
   "metadata": {},
   "outputs": [],
   "source": [
    "# TODO: calculate training and test accuracies using the grid search model "
   ]
  },
  {
   "attachments": {},
   "cell_type": "markdown",
   "metadata": {},
   "source": [
    "# Logistic Regression"
   ]
  },
  {
   "cell_type": "code",
   "execution_count": 11,
   "metadata": {},
   "outputs": [
    {
     "data": {
      "text/plain": [
       "0.995"
      ]
     },
     "execution_count": 11,
     "metadata": {},
     "output_type": "execute_result"
    }
   ],
   "source": [
    "from sklearn.linear_model import LogisticRegression\n",
    "\n",
    "model = LogisticRegression(solver='liblinear', random_state=0)\n",
    "model.fit(train_news_predictors, train_news_target)\n",
    "train_X_prediction = model.predict(train_news_predictors)\n",
    "train_X_prediction = pd.Series(train_X_prediction)                     \n",
    "\n",
    "from sklearn.metrics import accuracy_score\n",
    "training_data_accuracy = accuracy_score(train_X_prediction, train_news_target)    \n",
    "training_data_accuracy\n",
    "\n",
    "# TODO: find test accuracy "
   ]
  },
  {
   "attachments": {},
   "cell_type": "markdown",
   "metadata": {},
   "source": [
    "# Linear SVM"
   ]
  },
  {
   "cell_type": "code",
   "execution_count": 12,
   "metadata": {},
   "outputs": [
    {
     "name": "stdout",
     "output_type": "stream",
     "text": [
      "This is the accuracy for default C-value 1.0\n",
      "0.001 0.61\n",
      "0.01 0.8766666666666667\n",
      "0.1 0.9933333333333333\n",
      "1 1.0\n"
     ]
    }
   ],
   "source": [
    "from sklearn import svm\n",
    "\n",
    "# TODO: rewrite every print with fstirng, current print statements are not readable at all \n",
    "# https://realpython.com/python-f-strings/\n",
    "\n",
    "clf = svm.SVC(kernel = \"linear\") #SVM Model, default C-value\n",
    "clf.fit(train_news_predictors, train_news_target)\n",
    "accuracy = clf.score(train_news_predictors, train_news_target)\n",
    "print(\"This is the accuracy for default C-value\", accuracy)\n",
    "\n",
    "# TODO: Rewrite the entire loop using grid search, no point of rebuilding the wheel \n",
    "# TODO: dont use capitalized variable names, confusing \n",
    "C_values = [0.001, 0.01, 0.1, 1] #test various C-values to determine which gives the best accuraccy\n",
    "for i in C_values:\n",
    "  clf = svm.SVC(kernel = \"linear\", C=i)\n",
    "  clf.fit(train_news_predictors, train_news_target)\n",
    "  print(i, clf.score(train_news_predictors, train_news_target.values.ravel()))\n",
    "  \n",
    "# TODO: find test accuracy \n"
   ]
  },
  {
   "attachments": {},
   "cell_type": "markdown",
   "metadata": {},
   "source": [
    "# Voting Classifier "
   ]
  },
  {
   "cell_type": "code",
   "execution_count": null,
   "metadata": {},
   "outputs": [],
   "source": [
    "# TODO: never import packages that will not be used\n",
    "\n",
    "from sklearn.model_selection import train_test_split\n",
    "from sklearn import datasets\n",
    "from sklearn import svm\n",
    "from sklearn.linear_model import LogisticRegression\n",
    "from sklearn.ensemble import VotingClassifier\n",
    "from sklearn.ensemble import RandomForestClassifier\n",
    "from sklearn.metrics import accuracy_score\n",
    "from sklearn.metrics import f1_score"
   ]
  },
  {
   "cell_type": "code",
   "execution_count": null,
   "metadata": {},
   "outputs": [],
   "source": [
    "# TODO: try out different combinations of classifiers in the voting machine \n",
    "\n",
    "clf1 = LogisticRegression(max_iter=10000)\n",
    "clf2 = svm.SVC(C= 1, kernel='linear')\n",
    "clf3 = RandomForestClassifier()\n",
    "# TODO: grid search on differt parameters to get the best metrics \n",
    "eclf1 = VotingClassifier(estimators=[('lr', clf1), ('svm', clf2), ('rf', clf3)], voting='hard')\n",
    "# TODO: calculate both train and test accuracies. "
   ]
  },
  {
   "cell_type": "code",
   "execution_count": null,
   "metadata": {},
   "outputs": [],
   "source": [
    "# TODO: Rewrite print statement with fstring \n",
    "\n",
    "eclf1 = eclf1.fit(news_predictors, news_target)\n",
    "prediction = eclf1.predict(predictors_test)\n",
    "\n",
    "accuracy = accuracy_score(target_test, prediction)\n",
    "print(\"Αccuracy = \", accuracy * 100, \"%\")\n",
    "\n",
    "f1 = f1_score(target_test, prediction, average='macro')\n",
    "print(\"F1 score = \", f1 * 100, \"%\")"
   ]
  },
  {
   "attachments": {},
   "cell_type": "markdown",
   "metadata": {},
   "source": [
    "# Bagging Classifiers "
   ]
  },
  {
   "cell_type": "code",
   "execution_count": 13,
   "metadata": {},
   "outputs": [],
   "source": [
    "# TODO: missing"
   ]
  },
  {
   "attachments": {},
   "cell_type": "markdown",
   "metadata": {},
   "source": [
    "# CNN"
   ]
  },
  {
   "cell_type": "code",
   "execution_count": null,
   "metadata": {},
   "outputs": [],
   "source": []
  }
 ],
 "metadata": {
  "kernelspec": {
   "display_name": "Python 3",
   "language": "python",
   "name": "python3"
  },
  "language_info": {
   "codemirror_mode": {
    "name": "ipython",
    "version": 3
   },
   "file_extension": ".py",
   "mimetype": "text/x-python",
   "name": "python",
   "nbconvert_exporter": "python",
   "pygments_lexer": "ipython3",
   "version": "3.9.8"
  },
  "orig_nbformat": 4
 },
 "nbformat": 4,
 "nbformat_minor": 2
}
