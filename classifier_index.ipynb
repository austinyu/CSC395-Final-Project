{
 "cells": [
  {
   "cell_type": "code",
   "execution_count": 1,
   "metadata": {},
   "outputs": [],
   "source": [
    "import pandas as pd\n",
    "import numpy as np\n",
    "import matplotlib.pyplot as plt\n",
    "\n",
    "import warnings\n",
    "warnings.filterwarnings('ignore')\n",
    "\n",
    "from data_structs import NewsDataLoader, EvaluationDataLoader, ScorePackage\n",
    "from utils import model_predict, model_evaluate, model_predict_evaluate\n",
    "\n",
    "#importing the data\n",
    "news = pd.read_csv('./dataset_processed/fakeNews_titleStemming_Sampled.csv', index_col=0)\n",
    "news.reset_index(inplace=True)\n",
    "\n",
    "from sklearn.model_selection import train_test_split\n",
    "train_news, test_news = train_test_split(news, test_size=0.2, \n",
    "                                         random_state=7)\n",
    "\n",
    "train_news_predictors_rnn = train_news['title']\n",
    "train_news_predictors = train_news.drop(columns = ['title', 'label'])\n",
    "train_news_target = train_news['label']\n",
    "train_news_loader = NewsDataLoader(train_news_predictors, train_news_target)\n",
    "train_news_loader_rnn = NewsDataLoader(train_news_predictors_rnn, train_news_target)\n",
    "\n",
    "test_news_predictors_rnn = test_news['title']\n",
    "test_news_predictors = test_news.drop(columns = ['title', 'label'])\n",
    "test_news_target = test_news['label']\n",
    "test_news_loader = NewsDataLoader(test_news_predictors, test_news_target)\n",
    "test_news_loader_rnn = NewsDataLoader(test_news_predictors_rnn, test_news_target)"
   ]
  },
  {
   "cell_type": "code",
   "execution_count": 2,
   "metadata": {},
   "outputs": [],
   "source": [
    "train_score_packages = dict()\n",
    "test_score_packages = dict()"
   ]
  },
  {
   "attachments": {},
   "cell_type": "markdown",
   "metadata": {},
   "source": [
    "# KNN"
   ]
  },
  {
   "cell_type": "code",
   "execution_count": 3,
   "metadata": {},
   "outputs": [],
   "source": [
    "from sklearn.neighbors import KNeighborsClassifier\n",
    "\n",
    "model_knn = KNeighborsClassifier(n_neighbors=10, p=1, weights='distance').fit(\n",
    "    train_news_loader.predictors, train_news_loader.target)"
   ]
  },
  {
   "cell_type": "code",
   "execution_count": 4,
   "metadata": {},
   "outputs": [
    {
     "name": "stdout",
     "output_type": "stream",
     "text": [
      "For <knn> evaluated on <train> Dataset:\n",
      "    - accuracy: 1.0\n",
      "    - precisionn: 1.0\n",
      "    - recall: 1.0\n",
      "    - f1 score: 1.0\n",
      "For <knn> evaluated on <test> Dataset:\n",
      "    - accuracy: 0.66\n",
      "    - precisionn: 0.558\n",
      "    - recall: 0.615\n",
      "    - f1 score: 0.649\n"
     ]
    },
    {
     "data": {
      "image/png": "[encoded data removed]",
      "text/plain": [
       "<Figure size 640x480 with 2 Axes>"
      ]
     },
     "metadata": {},
     "output_type": "display_data"
    }
   ],
   "source": [
    "score_package_train_knn, score_package_test_knn = model_predict_evaluate(\n",
    "        model=model_knn, \n",
    "        name_model='knn', \n",
    "        train_news_loader=train_news_loader,\n",
    "        test_news_loader=test_news_loader\n",
    ")\n",
    "train_score_packages['knn'] = score_package_train_knn\n",
    "test_score_packages['knn'] = score_package_test_knn"
   ]
  },
  {
   "attachments": {},
   "cell_type": "markdown",
   "metadata": {},
   "source": [
    "# Logistic Regression"
   ]
  },
  {
   "cell_type": "code",
   "execution_count": 5,
   "metadata": {},
   "outputs": [
    {
     "data": {
      "text/html": [
       "<style>#sk-container-id-1 {color: black;background-color: white;}#sk-container-id-1 pre{padding: 0;}#sk-container-id-1 div.sk-toggleable {background-color: white;}#sk-container-id-1 label.sk-toggleable__label {cursor: pointer;display: block;width: 100%;margin-bottom: 0;padding: 0.3em;box-sizing: border-box;text-align: center;}#sk-container-id-1 label.sk-toggleable__label-arrow:before {content: \"▸\";float: left;margin-right: 0.25em;color: #696969;}#sk-container-id-1 label.sk-toggleable__label-arrow:hover:before {color: black;}#sk-container-id-1 div.sk-estimator:hover label.sk-toggleable__label-arrow:before {color: black;}#sk-container-id-1 div.sk-toggleable__content {max-height: 0;max-width: 0;overflow: hidden;text-align: left;background-color: #f0f8ff;}#sk-container-id-1 div.sk-toggleable__content pre {margin: 0.2em;color: black;border-radius: 0.25em;background-color: #f0f8ff;}#sk-container-id-1 input.sk-toggleable__control:checked~div.sk-toggleable__content {max-height: 200px;max-width: 100%;overflow: auto;}#sk-container-id-1 input.sk-toggleable__control:checked~label.sk-toggleable__label-arrow:before {content: \"▾\";}#sk-container-id-1 div.sk-estimator input.sk-toggleable__control:checked~label.sk-toggleable__label {background-color: #d4ebff;}#sk-container-id-1 div.sk-label input.sk-toggleable__control:checked~label.sk-toggleable__label {background-color: #d4ebff;}#sk-container-id-1 input.sk-hidden--visually {border: 0;clip: rect(1px 1px 1px 1px);clip: rect(1px, 1px, 1px, 1px);height: 1px;margin: -1px;overflow: hidden;padding: 0;position: absolute;width: 1px;}#sk-container-id-1 div.sk-estimator {font-family: monospace;background-color: #f0f8ff;border: 1px dotted black;border-radius: 0.25em;box-sizing: border-box;margin-bottom: 0.5em;}#sk-container-id-1 div.sk-estimator:hover {background-color: #d4ebff;}#sk-container-id-1 div.sk-parallel-item::after {content: \"\";width: 100%;border-bottom: 1px solid gray;flex-grow: 1;}#sk-container-id-1 div.sk-label:hover label.sk-toggleable__label {background-color: #d4ebff;}#sk-container-id-1 div.sk-serial::before {content: \"\";position: absolute;border-left: 1px solid gray;box-sizing: border-box;top: 0;bottom: 0;left: 50%;z-index: 0;}#sk-container-id-1 div.sk-serial {display: flex;flex-direction: column;align-items: center;background-color: white;padding-right: 0.2em;padding-left: 0.2em;position: relative;}#sk-container-id-1 div.sk-item {position: relative;z-index: 1;}#sk-container-id-1 div.sk-parallel {display: flex;align-items: stretch;justify-content: center;background-color: white;position: relative;}#sk-container-id-1 div.sk-item::before, #sk-container-id-1 div.sk-parallel-item::before {content: \"\";position: absolute;border-left: 1px solid gray;box-sizing: border-box;top: 0;bottom: 0;left: 50%;z-index: -1;}#sk-container-id-1 div.sk-parallel-item {display: flex;flex-direction: column;z-index: 1;position: relative;background-color: white;}#sk-container-id-1 div.sk-parallel-item:first-child::after {align-self: flex-end;width: 50%;}#sk-container-id-1 div.sk-parallel-item:last-child::after {align-self: flex-start;width: 50%;}#sk-container-id-1 div.sk-parallel-item:only-child::after {width: 0;}#sk-container-id-1 div.sk-dashed-wrapped {border: 1px dashed gray;margin: 0 0.4em 0.5em 0.4em;box-sizing: border-box;padding-bottom: 0.4em;background-color: white;}#sk-container-id-1 div.sk-label label {font-family: monospace;font-weight: bold;display: inline-block;line-height: 1.2em;}#sk-container-id-1 div.sk-label-container {text-align: center;}#sk-container-id-1 div.sk-container {/* jupyter's `normalize.less` sets `[hidden] { display: none; }` but bootstrap.min.css set `[hidden] { display: none !important; }` so we also need the `!important` here to be able to override the default hidden behavior on the sphinx rendered scikit-learn.org. See: https://github.com/scikit-learn/scikit-learn/issues/21755 */display: inline-block !important;position: relative;}#sk-container-id-1 div.sk-text-repr-fallback {display: none;}</style><div id=\"sk-container-id-1\" class=\"sk-top-container\"><div class=\"sk-text-repr-fallback\"><pre>LogisticRegression(random_state=0, solver=&#x27;liblinear&#x27;)</pre><b>In a Jupyter environment, please rerun this cell to show the HTML representation or trust the notebook. <br />On GitHub, the HTML representation is unable to render, please try loading this page with nbviewer.org.</b></div><div class=\"sk-container\" hidden><div class=\"sk-item\"><div class=\"sk-estimator sk-toggleable\"><input class=\"sk-toggleable__control sk-hidden--visually\" id=\"sk-estimator-id-1\" type=\"checkbox\" checked><label for=\"sk-estimator-id-1\" class=\"sk-toggleable__label sk-toggleable__label-arrow\">LogisticRegression</label><div class=\"sk-toggleable__content\"><pre>LogisticRegression(random_state=0, solver=&#x27;liblinear&#x27;)</pre></div></div></div></div></div>"
      ],
      "text/plain": [
       "LogisticRegression(random_state=0, solver='liblinear')"
      ]
     },
     "execution_count": 5,
     "metadata": {},
     "output_type": "execute_result"
    }
   ],
   "source": [
    "from sklearn.linear_model import LogisticRegression\n",
    "\n",
    "model_logisticRegression = LogisticRegression(solver='liblinear', random_state=0)\n",
    "model_logisticRegression.fit(\n",
    "    train_news_loader.predictors, train_news_loader.target)"
   ]
  },
  {
   "cell_type": "code",
   "execution_count": 7,
   "metadata": {},
   "outputs": [
    {
     "name": "stdout",
     "output_type": "stream",
     "text": [
      "For <logisticRegression> evaluated on <train> Dataset:\n",
      "    - accuracy: 0.995\n",
      "    - precisionn: 0.988\n",
      "    - recall: 1.0\n",
      "    - f1 score: 0.995\n",
      "For <logisticRegression> evaluated on <test> Dataset:\n",
      "    - accuracy: 0.905\n",
      "    - precisionn: 0.965\n",
      "    - recall: 0.838\n",
      "    - f1 score: 0.904\n"
     ]
    },
    {
     "data": {
      "image/png": "[encoded data removed]",
      "text/plain": [
       "<Figure size 640x480 with 2 Axes>"
      ]
     },
     "metadata": {},
     "output_type": "display_data"
    }
   ],
   "source": [
    "score_package_train_logisticRegression, score_package_test_logisticRegression = model_predict_evaluate(\n",
    "        model=model_logisticRegression, \n",
    "        name_model='logisticRegression', \n",
    "        train_news_loader=train_news_loader,\n",
    "        test_news_loader=test_news_loader\n",
    ")\n",
    "train_score_packages['logisticRegression'] = score_package_train_logisticRegression\n",
    "test_score_packages['logisticRegression'] = score_package_test_logisticRegression"
   ]
  },
  {
   "attachments": {},
   "cell_type": "markdown",
   "metadata": {},
   "source": [
    "# Linear SVM"
   ]
  },
  {
   "cell_type": "code",
   "execution_count": 10,
   "metadata": {},
   "outputs": [],
   "source": [
    "from sklearn import svm\n",
    "\n",
    "model_svc = svm.SVC(C=0.1, kernel = \"linear\").fit(train_news_predictors, train_news_target).fit(\n",
    "    train_news_loader.predictors, train_news_loader.target)"
   ]
  },
  {
   "cell_type": "code",
   "execution_count": null,
   "metadata": {},
   "outputs": [],
   "source": [
    "score_package_train_linearSVN, score_package_test_linearSVN = model_predict_evaluate(\n",
    "        model=model_svc, \n",
    "        name_model='linearSVM', \n",
    "        train_news_loader=train_news_loader,\n",
    "        test_news_loader=test_news_loader\n",
    ")\n",
    "train_score_packages['linearSVM'] = score_package_train_linearSVN\n",
    "test_score_packages['linearSVM'] = score_package_test_linearSVN"
   ]
  },
  {
   "attachments": {},
   "cell_type": "markdown",
   "metadata": {},
   "source": [
    "# Voting Classifier "
   ]
  },
  {
   "cell_type": "code",
   "execution_count": null,
   "metadata": {},
   "outputs": [],
   "source": [
    "# TODO: never import packages that will not be used\n",
    "\n",
    "from sklearn.model_selection import train_test_split\n",
    "from sklearn import datasets\n",
    "from sklearn import svm\n",
    "from sklearn.linear_model import LogisticRegression\n",
    "from sklearn.ensemble import VotingClassifier\n",
    "from sklearn.ensemble import RandomForestClassifier\n",
    "from sklearn.metrics import accuracy_score\n",
    "from sklearn.metrics import f1_score"
   ]
  },
  {
   "cell_type": "code",
   "execution_count": null,
   "metadata": {},
   "outputs": [],
   "source": [
    "# TODO: try out different combinations of classifiers in the voting machine \n",
    "\n",
    "clf1 = LogisticRegression(max_iter=10000)\n",
    "clf2 = svm.SVC(C= 1, kernel='linear')\n",
    "clf3 = RandomForestClassifier()\n",
    "# TODO: grid search on differt parameters to get the best metrics \n",
    "eclf1 = VotingClassifier(estimators=[('lr', clf1), ('svm', clf2), ('rf', clf3)], voting='hard')\n",
    "# TODO: calculate both train and test accuracies. "
   ]
  },
  {
   "cell_type": "code",
   "execution_count": null,
   "metadata": {},
   "outputs": [],
   "source": [
    "# TODO: Rewrite print statement with fstring \n",
    "\n",
    "eclf1 = eclf1.fit(news_predictors, news_target)\n",
    "prediction = eclf1.predict(predictors_test)\n",
    "\n",
    "accuracy = accuracy_score(target_test, prediction)\n",
    "print(\"Αccuracy = \", accuracy * 100, \"%\")\n",
    "\n",
    "f1 = f1_score(target_test, prediction, average='macro')\n",
    "print(\"F1 score = \", f1 * 100, \"%\")"
   ]
  },
  {
   "attachments": {},
   "cell_type": "markdown",
   "metadata": {},
   "source": [
    "# Bagging Classifiers "
   ]
  },
  {
   "cell_type": "code",
   "execution_count": 13,
   "metadata": {},
   "outputs": [],
   "source": [
    "# TODO: missing"
   ]
  },
  {
   "attachments": {},
   "cell_type": "markdown",
   "metadata": {},
   "source": [
    "# RNN"
   ]
  },
  {
   "cell_type": "code",
   "execution_count": 6,
   "metadata": {},
   "outputs": [],
   "source": [
    "import torch"
   ]
  },
  {
   "cell_type": "code",
   "execution_count": 7,
   "metadata": {},
   "outputs": [],
   "source": [
    "words = [sentence.split(' ') for sentence in train_news_predictors_rnn.to_numpy()] + [sentence.split(' ') for sentence in test_news_predictors_rnn.to_numpy()]\n",
    "words = np.array([word for sentence in words for word in sentence])\n",
    "# hashing words for constant time searching\n",
    "all_words_word2index = {word : index for index, word in enumerate(np.unique(words))}\n",
    "n_words = len(all_words_word2index)"
   ]
  },
  {
   "cell_type": "code",
   "execution_count": 8,
   "metadata": {},
   "outputs": [],
   "source": [
    "# Function to iterate through a sentence of text encode each \n",
    "#   letter as a 1 x n_words vector in an #words x 1 x n_words tensor\n",
    "def sentence2tensor(sentence):\n",
    "    sentence_parsed = sentence.split(' ')\n",
    "    tensor = torch.zeros(len(sentence_parsed), 1, n_words)\n",
    "    for index_word, word in enumerate(sentence_parsed):\n",
    "        tensor[index_word][0][all_words_word2index[word]] = 1\n",
    "    return tensor"
   ]
  },
  {
   "cell_type": "code",
   "execution_count": 9,
   "metadata": {},
   "outputs": [],
   "source": [
    "from torch import nn\n",
    "class news_cnn(nn.Module):\n",
    "    ## Constructor commands\n",
    "    def __init__(self, input_size, hidden_size, output_size):\n",
    "        super(news_cnn, self).__init__()\n",
    "\n",
    "        self.hidden_size = hidden_size\n",
    "        self.i2h = nn.Linear(input_size + hidden_size, hidden_size)\n",
    "        self.i2o = nn.Linear(hidden_size, output_size)\n",
    "        self.softmax = nn.LogSoftmax(dim=1)\n",
    "    \n",
    "    ## Function to generate predictions\n",
    "    def forward(self, input, hidden):\n",
    "        combined = torch.cat((input, hidden), 1)\n",
    "        hidden = self.i2h(combined)\n",
    "        output = self.i2o(hidden)\n",
    "        output = self.softmax(output)\n",
    "        return output, hidden\n",
    "    \n",
    "    def initHidden(self):\n",
    "        return torch.zeros(1, self.hidden_size)\n",
    "    \n",
    "## Function to randomly sample a single example\n",
    "import random\n",
    "def randomTrainingExample():\n",
    "    ## Randomly choose a category index (1 and 0)\n",
    "    category = random.randint(0, 1)\n",
    "    \n",
    "    ## Randomly choose a name in that category\n",
    "    sentence = train_news_predictors_rnn[train_news_target == category].sample(\n",
    "                                        n=1).to_numpy()[0]\n",
    "    ## Convert the chosen example to a tensor\n",
    "    category_tensor = torch.tensor([category], dtype=torch.long)\n",
    "    sentence_tensor = sentence2tensor(sentence)\n",
    "    \n",
    "    return category, sentence, category_tensor, sentence_tensor"
   ]
  },
  {
   "cell_type": "code",
   "execution_count": 10,
   "metadata": {},
   "outputs": [],
   "source": [
    "## Set learning rate\n",
    "learning_rate = 0.005\n",
    "\n",
    "## Define cost func\n",
    "cost_fn = nn.CrossEntropyLoss()\n",
    "\n",
    "## Training function for a single input (name category, name)\n",
    "def train(model, category_tensor, sentence_tensor):\n",
    "    \n",
    "    ## initialize the hidden state\n",
    "    hidden = model.initHidden()\n",
    "    \n",
    "    ## set the gradient to zero\n",
    "    model.zero_grad()\n",
    "\n",
    "    ## loop through the letters in the input, getting a prediction and new hidden state each time\n",
    "    for i in range(sentence_tensor.size()[0]):\n",
    "        output, hidden = model(sentence_tensor[i], hidden)\n",
    "\n",
    "    ## Calculate cost and gradients\n",
    "    cost = cost_fn(output, category_tensor)\n",
    "    cost.backward()\n",
    "\n",
    "    # Update parameters\n",
    "    for p in model.parameters():\n",
    "        p.data.add_(p.grad.data, alpha = -learning_rate) ## This adds the LR times the gradient to each parameter \n",
    "\n",
    "    ## Return the output and cost\n",
    "    return output, cost.item()"
   ]
  },
  {
   "cell_type": "code",
   "execution_count": 11,
   "metadata": {},
   "outputs": [
    {
     "name": "stdout",
     "output_type": "stream",
     "text": [
      "20 iterations completed!\n",
      "40 iterations completed!\n",
      "60 iterations completed!\n",
      "80 iterations completed!\n",
      "100 iterations completed!\n",
      "120 iterations completed!\n",
      "140 iterations completed!\n",
      "160 iterations completed!\n",
      "180 iterations completed!\n",
      "200 iterations completed!\n",
      "220 iterations completed!\n",
      "240 iterations completed!\n",
      "260 iterations completed!\n",
      "280 iterations completed!\n",
      "300 iterations completed!\n",
      "320 iterations completed!\n",
      "340 iterations completed!\n",
      "360 iterations completed!\n",
      "380 iterations completed!\n",
      "400 iterations completed!\n",
      "420 iterations completed!\n",
      "440 iterations completed!\n",
      "460 iterations completed!\n",
      "480 iterations completed!\n",
      "500 iterations completed!\n",
      "520 iterations completed!\n",
      "540 iterations completed!\n",
      "560 iterations completed!\n",
      "580 iterations completed!\n",
      "600 iterations completed!\n",
      "620 iterations completed!\n",
      "640 iterations completed!\n",
      "660 iterations completed!\n",
      "680 iterations completed!\n",
      "700 iterations completed!\n",
      "720 iterations completed!\n",
      "740 iterations completed!\n",
      "760 iterations completed!\n",
      "780 iterations completed!\n",
      "800 iterations completed!\n",
      "820 iterations completed!\n",
      "840 iterations completed!\n",
      "860 iterations completed!\n",
      "880 iterations completed!\n",
      "900 iterations completed!\n",
      "920 iterations completed!\n",
      "940 iterations completed!\n",
      "960 iterations completed!\n",
      "980 iterations completed!\n",
      "1000 iterations completed!\n"
     ]
    }
   ],
   "source": [
    "## Initializations\n",
    "n_iters = 1000\n",
    "cost_every_n = 25\n",
    "current_cost = 0\n",
    "track_cost = []\n",
    "\n",
    "news_rnn_inst = news_cnn(n_words, 6000, 2)\n",
    "\n",
    "### Iteratively update model from randomly chosen example\n",
    "for iter in range(1, n_iters + 1):\n",
    "    if (iter % 20 == 0):\n",
    "        print(f'{iter} iterations completed!')\n",
    "    category, line, category_tensor, line_tensor = randomTrainingExample()\n",
    "    output, cost = train(news_rnn_inst, category_tensor, line_tensor)\n",
    "    current_cost += cost\n",
    "    \n",
    "    # Save cost every 25 iterations\n",
    "    if iter % cost_every_n == 0:\n",
    "        track_cost.append(current_cost/cost_every_n)\n",
    "        current_cost = 0"
   ]
  },
  {
   "cell_type": "code",
   "execution_count": 12,
   "metadata": {},
   "outputs": [
    {
     "data": {
      "image/png": "[encoded data removed]",
      "text/plain": [
       "<Figure size 640x480 with 1 Axes>"
      ]
     },
     "metadata": {},
     "output_type": "display_data"
    }
   ],
   "source": [
    "plt.plot(track_cost)\n",
    "plt.show()"
   ]
  },
  {
   "cell_type": "code",
   "execution_count": 13,
   "metadata": {},
   "outputs": [],
   "source": [
    "def predict(model, sentence):    \n",
    "    ## Don't update gradient with any of these examples\n",
    "    with torch.no_grad():\n",
    "        ## Initialize new hidden state\n",
    "        hidden = model.initHidden()\n",
    "        \n",
    "        ## Convert input str to tensor\n",
    "        input_t = sentence2tensor(sentence)\n",
    " \n",
    "        ## Pass each character into `rnn`\n",
    "        for i in range(input_t.size()[0]):\n",
    "            output, hidden = model(input_t[i], hidden)\n",
    "\n",
    "        # Get top N categories from output\n",
    "        _, topi = output.topk(1, 1, True)\n",
    "        return topi[0][0].item()"
   ]
  },
  {
   "cell_type": "code",
   "execution_count": 14,
   "metadata": {},
   "outputs": [],
   "source": [
    "# train_news_predictors, train_news_target\n",
    " \n",
    "train_news_target_predicted = [predict(news_rnn_inst, sentence) \n",
    "                               for sentence in train_news_predictors_rnn]\n",
    "test_news_target_predicted = [predict(news_rnn_inst, sentence) \n",
    "                               for sentence in test_news_predictors_rnn]"
   ]
  },
  {
   "cell_type": "code",
   "execution_count": 4,
   "metadata": {},
   "outputs": [
    {
     "ename": "NameError",
     "evalue": "name 'train_news_target_predicted' is not defined",
     "output_type": "error",
     "traceback": [
      "\u001b[0;31m---------------------------------------------------------------------------\u001b[0m",
      "\u001b[0;31mNameError\u001b[0m                                 Traceback (most recent call last)",
      "Cell \u001b[0;32mIn[4], line 3\u001b[0m\n\u001b[1;32m      1\u001b[0m \u001b[39m# Accuracy\u001b[39;00m\n\u001b[1;32m      2\u001b[0m \u001b[39mfrom\u001b[39;00m \u001b[39msklearn\u001b[39;00m\u001b[39m.\u001b[39;00m\u001b[39mmetrics\u001b[39;00m \u001b[39mimport\u001b[39;00m accuracy_score\n\u001b[0;32m----> 3\u001b[0m train_accuracy_rnn \u001b[39m=\u001b[39m accuracy_score(train_news_target, train_news_target_predicted)\n\u001b[1;32m      4\u001b[0m test_accuracy_rnn \u001b[39m=\u001b[39m accuracy_score(test_news_target, test_news_target_predicted)\n\u001b[1;32m      5\u001b[0m \u001b[39mprint\u001b[39m(\u001b[39mf\u001b[39m\u001b[39m'\u001b[39m\u001b[39mTrain Accuracy for RNN model is \u001b[39m\u001b[39m{\u001b[39;00mtrain_accuracy_rnn\u001b[39m}\u001b[39;00m\u001b[39m'\u001b[39m)\n",
      "\u001b[0;31mNameError\u001b[0m: name 'train_news_target_predicted' is not defined"
     ]
    }
   ],
   "source": [
    "# Accuracy\n",
    "from sklearn.metrics import accuracy_score\n",
    "train_accuracy_rnn = accuracy_score(train_news_target, train_news_target_predicted)\n",
    "test_accuracy_rnn = accuracy_score(test_news_target, test_news_target_predicted)\n",
    "print(f'Train Accuracy for RNN model is {train_accuracy_rnn}')\n",
    "print(f'Test Accuracy for RNN model is {test_accuracy_rnn}')\n",
    "\n",
    "from sklearn.metrics import ConfusionMatrixDisplay\n",
    "ConfusionMatrixDisplay.from_predictions(test_news_target, test_news_target_predicted)\n",
    "\n",
    "# F1 Score\n",
    "from sklearn.metrics import f1_score\n",
    "train_f1_rnn = f1_score(train_news_target, \n",
    "                        train_news_target_predicted, average='macro')\n",
    "test_f1_rnn = f1_score(test_news_target, \n",
    "                        test_news_target_predicted, average='macro')\n",
    "print(f'Train F1 Score for RNN model is {train_f1_rnn}')\n",
    "print(f'Test F1 Score for RNN model is {test_f1_rnn}')\n"
   ]
  },
  {
   "cell_type": "code",
   "execution_count": 16,
   "metadata": {},
   "outputs": [],
   "source": [
    "# TODO: (optional) try different parameters for rnn\n",
    "# TODO: train and test metrics "
   ]
  },
  {
   "cell_type": "code",
   "execution_count": null,
   "metadata": {},
   "outputs": [],
   "source": []
  }
 ],
 "metadata": {
  "kernelspec": {
   "display_name": "Python 3 (ipykernel)",
   "language": "python",
   "name": "python3"
  },
  "language_info": {
   "codemirror_mode": {
    "name": "ipython",
    "version": 3
   },
   "file_extension": ".py",
   "mimetype": "text/x-python",
   "name": "python",
   "nbconvert_exporter": "python",
   "pygments_lexer": "ipython3",
   "version": "3.9.8"
  }
 },
 "nbformat": 4,
 "nbformat_minor": 2
}
