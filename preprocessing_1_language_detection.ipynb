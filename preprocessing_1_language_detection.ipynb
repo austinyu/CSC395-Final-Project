{
 "cells": [
  {
   "cell_type": "code",
   "execution_count": 1,
   "metadata": {},
   "outputs": [],
   "source": [
    "import pandas as pd\n",
    "import numpy as np\n",
    "import matplotlib.pyplot as plt\n",
    "\n",
    "import warnings\n",
    "warnings.filterwarnings('ignore') "
   ]
  },
  {
   "cell_type": "code",
   "execution_count": 2,
   "metadata": {},
   "outputs": [],
   "source": [
    "news_raw = pd.read_csv('dataset_raw/train.csv')\n",
    "\n",
    "# entry 19925 contains a title of url \n",
    "# entry 13892 has no title and an emoji as the news body :)\n",
    "news_raw.drop(index=[19925, 13892], inplace=True) \n"
   ]
  },
  {
   "cell_type": "code",
   "execution_count": 3,
   "metadata": {},
   "outputs": [],
   "source": [
    "from langdetect import detect, DetectorFactory\n",
    "news_raw['language'] = np.nan\n",
    "DetectorFactory.seed = 0\n",
    "def language_detection_news(data_set):\n",
    "    for row, title in enumerate(data_set.title):\n",
    "        text = data_set.iloc[row, 3]\n",
    "        if type(title) is str:\n",
    "            data_set.iloc[row, 5] = detect(title)\n",
    "        elif type(text) is str:\n",
    "            data_set.iloc[row, 5] = detect(text)\n",
    "        else: \n",
    "            data_set.iloc[row, 5] = np.nan"
   ]
  },
  {
   "cell_type": "code",
   "execution_count": 4,
   "metadata": {},
   "outputs": [],
   "source": [
    "language_detection_news(news_raw)"
   ]
  },
  {
   "cell_type": "code",
   "execution_count": 14,
   "metadata": {},
   "outputs": [],
   "source": [
    "news_raw_en = news_raw[news_raw['language'] == 'en']"
   ]
  },
  {
   "cell_type": "code",
   "execution_count": 16,
   "metadata": {},
   "outputs": [
    {
     "name": "stdout",
     "output_type": "stream",
     "text": [
      "<class 'pandas.core.frame.DataFrame'>\n",
      "Int64Index: 19789 entries, 0 to 20799\n",
      "Data columns (total 6 columns):\n",
      " #   Column    Non-Null Count  Dtype \n",
      "---  ------    --------------  ----- \n",
      " 0   id        19789 non-null  int64 \n",
      " 1   title     19265 non-null  object\n",
      " 2   author    18090 non-null  object\n",
      " 3   text      19788 non-null  object\n",
      " 4   label     19789 non-null  int64 \n",
      " 5   language  19789 non-null  object\n",
      "dtypes: int64(2), object(4)\n",
      "memory usage: 1.1+ MB\n"
     ]
    }
   ],
   "source": [
    "news_raw_en.info()"
   ]
  },
  {
   "cell_type": "code",
   "execution_count": 19,
   "metadata": {},
   "outputs": [],
   "source": [
    "news_raw_en.dropna(axis=0, how=\"any\", subset=None, inplace=True)"
   ]
  },
  {
   "cell_type": "code",
   "execution_count": 20,
   "metadata": {},
   "outputs": [
    {
     "name": "stdout",
     "output_type": "stream",
     "text": [
      "<class 'pandas.core.frame.DataFrame'>\n",
      "Int64Index: 17566 entries, 0 to 20799\n",
      "Data columns (total 6 columns):\n",
      " #   Column    Non-Null Count  Dtype \n",
      "---  ------    --------------  ----- \n",
      " 0   id        17566 non-null  int64 \n",
      " 1   title     17566 non-null  object\n",
      " 2   author    17566 non-null  object\n",
      " 3   text      17566 non-null  object\n",
      " 4   label     17566 non-null  int64 \n",
      " 5   language  17566 non-null  object\n",
      "dtypes: int64(2), object(4)\n",
      "memory usage: 960.6+ KB\n"
     ]
    }
   ],
   "source": [
    "news_raw_en.info()"
   ]
  },
  {
   "cell_type": "code",
   "execution_count": 21,
   "metadata": {},
   "outputs": [],
   "source": [
    "news_raw_en.to_csv('dataset_processed/fakeNews_languageDetection.csv')"
   ]
  }
 ],
 "metadata": {
  "kernelspec": {
   "display_name": "Python 3",
   "language": "python",
   "name": "python3"
  },
  "language_info": {
   "codemirror_mode": {
    "name": "ipython",
    "version": 3
   },
   "file_extension": ".py",
   "mimetype": "text/x-python",
   "name": "python",
   "nbconvert_exporter": "python",
   "pygments_lexer": "ipython3",
   "version": "3.9.8"
  },
  "orig_nbformat": 4
 },
 "nbformat": 4,
 "nbformat_minor": 2
}
