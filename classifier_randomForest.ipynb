{
 "cells": [
  {
   "cell_type": "code",
   "execution_count": 2,
   "metadata": {},
   "outputs": [],
   "source": [
    "import pandas as pd\n",
    "import numpy as np\n",
    "import matplotlib.pyplot as plt\n",
    "\n",
    "import warnings\n",
    "warnings.filterwarnings('ignore')\n",
    "\n",
    "from data_structs import NewsDataLoader, EvaluationDataLoader, ScorePackage\n",
    "from utils import model_predict, model_evaluate, model_predict_evaluate\n",
    "\n",
    "#importing the data\n",
    "news = pd.read_csv('./dataset_processed/fakeNews_titleStemming_Sampled.csv', index_col=0)\n",
    "news.reset_index(inplace=True)\n",
    "\n",
    "from sklearn.model_selection import train_test_split\n",
    "train_news, test_news = train_test_split(news, test_size=0.2, \n",
    "                                         random_state=7)\n",
    "\n",
    "train_news_predictors_rnn = train_news['title']\n",
    "train_news_predictors = train_news.drop(columns = ['title', 'label'])\n",
    "train_news_target = train_news['label']\n",
    "train_news_loader = NewsDataLoader(train_news_predictors, train_news_target)\n",
    "train_news_loader_rnn = NewsDataLoader(train_news_predictors_rnn, train_news_target)\n",
    "\n",
    "test_news_predictors_rnn = test_news['title']\n",
    "test_news_predictors = test_news.drop(columns = ['title', 'label'])\n",
    "test_news_target = test_news['label']\n",
    "test_news_loader = NewsDataLoader(test_news_predictors, test_news_target)\n",
    "test_news_loader_rnn = NewsDataLoader(test_news_predictors_rnn, test_news_target)"
   ]
  },
  {
   "cell_type": "code",
   "execution_count": 25,
   "metadata": {},
   "outputs": [
    {
     "name": "stdout",
     "output_type": "stream",
     "text": [
      "Train Accuracy for RNN model is 0.9375\n",
      "Test Accuracy for RNN model is 0.91\n",
      "Train F1 Score for RNN model is 0.9368032558962562\n",
      "Test F1 Score for RNN model is 0.9095568284594513\n"
     ]
    }
   ],
   "source": [
    "from sklearn.ensemble import RandomForestClassifier\n",
    "model_randomForest = RandomForestClassifier(max_depth=20, min_samples_split=10, \n",
    "                                   max_features=20000, n_estimators=100, oob_score=True)\n",
    "\n",
    "model_randomForest.fit(train_news_loader.predictors, \n",
    "                       train_news_loader.target)"
   ]
  },
  {
   "cell_type": "code",
   "execution_count": null,
   "metadata": {},
   "outputs": [],
   "source": [
    "score_package_train_randomForest, score_package_test_randomForest = model_predict_evaluate(\n",
    "        model=model_randomForest, \n",
    "        name_model='randomForest', \n",
    "        train_news_loader=train_news_loader,\n",
    "        test_news_loader=test_news_loader\n",
    ")"
   ]
  },
  {
   "cell_type": "code",
   "execution_count": null,
   "metadata": {},
   "outputs": [],
   "source": []
  },
  {
   "cell_type": "code",
   "execution_count": null,
   "metadata": {},
   "outputs": [],
   "source": [
    "from sklearn.ensemble import RandomForestClassifier\n",
    "model_randomForest = RandomForestClassifier(max_depth=20, min_samples_split=10, \n",
    "                                   max_features=20000, n_estimators=100, oob_score=True)\n",
    "\n",
    "model_randomForest.fit(train_news_predictors, train_news_target)\n",
    "\n",
    "from sklearn.model_selection import GridSearchCV\n",
    "\n",
    "model_randomForest = RandomForestClassifier(max_depth=20, min_samples_split=10, \n",
    "                                   max_features=20000, n_estimators=100, oob_score=True)\n",
    "\n",
    "parms = {\n",
    "         'max_depth': [10, 20, 30],\n",
    "         'min_samples_split': [5, 10, 20],\n",
    "         'max_features': [10, 20000, 40000],\n",
    "         'n_estimators': [50, 100, 200],\n",
    "        }\n",
    "\n",
    "grid = GridSearchCV(\n",
    "    model_randomForest, parms, cv = 5, \n",
    "    scoring = 'f1').fit(train_news_loader.predictors, \n",
    "                        train_news_loader.target)\n",
    "print(grid.best_estimator_)\n",
    "grid.best_score_"
   ]
  },
  {
   "cell_type": "code",
   "execution_count": null,
   "metadata": {},
   "outputs": [],
   "source": [
    "model_randomForest = grid.best_estimator_\n",
    "score_package_train_logisticRegression, score_package_test_logisticRegression = model_predict_evaluate(\n",
    "        model=model_randomForest, \n",
    "        name_model='randomForest', \n",
    "        train_news_loader=train_news_loader,\n",
    "        test_news_loader=test_news_loader\n",
    ")"
   ]
  }
 ],
 "metadata": {
  "kernelspec": {
   "display_name": "Python 3",
   "language": "python",
   "name": "python3"
  },
  "language_info": {
   "codemirror_mode": {
    "name": "ipython",
    "version": 3
   },
   "file_extension": ".py",
   "mimetype": "text/x-python",
   "name": "python",
   "nbconvert_exporter": "python",
   "pygments_lexer": "ipython3",
   "version": "3.9.8"
  },
  "orig_nbformat": 4
 },
 "nbformat": 4,
 "nbformat_minor": 2
}
