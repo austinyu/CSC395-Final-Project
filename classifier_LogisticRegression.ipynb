{
 "cells": [
  {
   "cell_type": "code",
   "execution_count": 8,
   "metadata": {},
   "outputs": [],
   "source": [
    "import pandas as pd\n",
    "import numpy as np\n",
    "import matplotlib.pyplot as plt\n",
    "\n",
    "import warnings\n",
    "warnings.filterwarnings('ignore')"
   ]
  },
  {
   "cell_type": "code",
   "execution_count": 9,
   "metadata": {},
   "outputs": [],
   "source": [
    "#importing the data\n",
    "news = pd.read_csv('./dataset_processed/fakeNews_titleStemming_Sampled.csv', index_col=0)\n",
    "news.reset_index(inplace=True)"
   ]
  },
  {
   "cell_type": "code",
   "execution_count": 10,
   "metadata": {},
   "outputs": [],
   "source": [
    "#recreating predictor and target variables\n",
    "\n",
    "from sklearn.model_selection import train_test_split\n",
    "\n",
    "from sklearn.metrics import accuracy_score\n",
    "from sklearn.metrics import f1_score\n",
    "\n",
    "train_news, test_news = train_test_split(news, test_size=0.2, \n",
    "                                         random_state=7)\n",
    "\n",
    "train_news_predictors = train_news.drop(columns = ['title', 'label'])\n",
    "train_news_target = train_news['label']\n",
    "\n",
    "test_news_predictors = test_news.drop(columns = ['title', 'label'])\n",
    "test_news_target = test_news['label']"
   ]
  },
  {
   "cell_type": "code",
   "execution_count": 11,
   "metadata": {},
   "outputs": [],
   "source": [
    "from sklearn.linear_model import LogisticRegression\n",
    "\n",
    "model = LogisticRegression(solver='liblinear', random_state=0)\n",
    "model.fit(train_news_predictors, train_news_target)\n",
    "prediction = model.predict(test_news_predictors)\n",
    "prediction = pd.Series(prediction)               \n"
   ]
  },
  {
   "cell_type": "code",
   "execution_count": 12,
   "metadata": {},
   "outputs": [
    {
     "name": "stdout",
     "output_type": "stream",
     "text": [
      "Αccuracy =  90.5 %\n"
     ]
    }
   ],
   "source": [
    "accuracy = accuracy_score(test_news_target, prediction)\n",
    "print(\"Αccuracy = \", accuracy * 100, \"%\")\n"
   ]
  },
  {
   "cell_type": "code",
   "execution_count": 13,
   "metadata": {},
   "outputs": [
    {
     "name": "stdout",
     "output_type": "stream",
     "text": [
      "F1 score =  90.44626021370206 %\n"
     ]
    }
   ],
   "source": [
    "f1 = f1_score(test_news_target, prediction, average='macro')\n",
    "print(\"F1 score = \", f1 * 100, \"%\")"
   ]
  },
  {
   "cell_type": "code",
   "execution_count": 14,
   "metadata": {},
   "outputs": [],
   "source": [
    "from sklearn.preprocessing import MinMaxScaler, StandardScaler, RobustScaler\n",
    "\n",
    "#trying a different solver w/ scaling\n",
    "pipe = Pipeline([\n",
    "('scaler', [StandardScaler(), RobustScaler(), MnScaler()]),\n",
    "('model', LogisticRegression(penalty='none', solver='newton-cg'))\n",
    "])"
   ]
  }
 ],
 "metadata": {
  "kernelspec": {
   "display_name": "Python 3",
   "language": "python",
   "name": "python3"
  },
  "language_info": {
   "codemirror_mode": {
    "name": "ipython",
    "version": 3
   },
   "file_extension": ".py",
   "mimetype": "text/x-python",
   "name": "python",
   "nbconvert_exporter": "python",
   "pygments_lexer": "ipython3",
   "version": "3.9.8"
  },
  "orig_nbformat": 4
 },
 "nbformat": 4,
 "nbformat_minor": 2
}
