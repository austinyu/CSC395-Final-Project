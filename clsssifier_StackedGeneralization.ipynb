{
 "cells": [
  {
   "cell_type": "code",
   "execution_count": 2,
   "metadata": {},
   "outputs": [],
   "source": [
    "import pandas as pd\n",
    "import numpy as np\n",
    "import matplotlib.pyplot as plt\n",
    "\n",
    "import warnings\n",
    "warnings.filterwarnings('ignore')\n",
    "\n",
    "from data_structs import NewsDataLoader, EvaluationDataLoader, ScorePackage\n",
    "from utils import model_predict, model_evaluate, model_predict_evaluate\n",
    "\n",
    "#importing the data\n",
    "news = pd.read_csv('./dataset_processed/fakeNews_titleStemming_Sampled.csv', index_col=0)\n",
    "news.reset_index(inplace=True)\n",
    "\n",
    "from sklearn.model_selection import train_test_split\n",
    "train_news, test_news = train_test_split(news, test_size=0.2, \n",
    "                                         random_state=7)\n",
    "\n",
    "train_news_predictors_rnn = train_news['title']\n",
    "train_news_predictors = train_news.drop(columns = ['title', 'label'])\n",
    "train_news_target = train_news['label']\n",
    "train_news_loader = NewsDataLoader(train_news_predictors, train_news_target)\n",
    "train_news_loader_rnn = NewsDataLoader(train_news_predictors_rnn, train_news_target)\n",
    "\n",
    "test_news_predictors_rnn = test_news['title']\n",
    "test_news_predictors = test_news.drop(columns = ['title', 'label'])\n",
    "test_news_target = test_news['label']\n",
    "test_news_loader = NewsDataLoader(test_news_predictors, test_news_target)\n",
    "test_news_loader_rnn = NewsDataLoader(test_news_predictors_rnn, test_news_target)"
   ]
  },
  {
   "cell_type": "code",
   "execution_count": 6,
   "metadata": {},
   "outputs": [
    {
     "name": "stdout",
     "output_type": "stream",
     "text": [
      "Train Accuracy for RNN model is 0.8975\n",
      "Test Accuracy for RNN model is 0.82\n",
      "Train F1 Score for RNN model is 0.8955247650899825\n",
      "Test F1 Score for RNN model is 0.8139727159983463\n"
     ]
    }
   ],
   "source": [
    "from sklearn.linear_model import LogisticRegression\n",
    "from sklearn.tree import DecisionTreeClassifier\n",
    "\n",
    "## Create list of models in the ensemble\n",
    "base_models = [('logreg', LogisticRegression(penalty='none')),\n",
    "              ('tree', DecisionTreeClassifier(max_depth=5))]\n",
    "\n",
    "## Final model used to aggregate predicted probs\n",
    "my_final_estimator = DecisionTreeClassifier(max_depth=2)\n",
    "\n",
    "## Create stack\n",
    "from sklearn.ensemble import StackingClassifier\n",
    "model_stack = StackingClassifier(estimators = base_models, final_estimator = my_final_estimator, \n",
    "                              stack_method ='predict_proba', cv=5)\n",
    "\n",
    "## Fit and Evaluate (cv is done internally in StackingClassifier)\n",
    "fitted_stack = model_stack.fit(train_news_loader.predictors, \n",
    "                               train_news_loader.target)"
   ]
  },
  {
   "cell_type": "code",
   "execution_count": null,
   "metadata": {},
   "outputs": [],
   "source": [
    "score_package_train_stack, score_package_test_stack = model_predict_evaluate(\n",
    "        model=model_stack, \n",
    "        name_model='stack', \n",
    "        train_news_loader=train_news_loader,\n",
    "        test_news_loader=test_news_loader\n",
    ")"
   ]
  }
 ],
 "metadata": {
  "kernelspec": {
   "display_name": "Python 3",
   "language": "python",
   "name": "python3"
  },
  "language_info": {
   "codemirror_mode": {
    "name": "ipython",
    "version": 3
   },
   "file_extension": ".py",
   "mimetype": "text/x-python",
   "name": "python",
   "nbconvert_exporter": "python",
   "pygments_lexer": "ipython3",
   "version": "3.9.8"
  },
  "orig_nbformat": 4
 },
 "nbformat": 4,
 "nbformat_minor": 2
}
