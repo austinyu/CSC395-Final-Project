{
 "cells": [
  {
   "cell_type": "code",
   "execution_count": 2,
   "metadata": {},
   "outputs": [],
   "source": [
    "import pandas as pd\n",
    "import numpy as np\n",
    "import matplotlib.pyplot as plt\n",
    "\n",
    "import warnings\n",
    "warnings.filterwarnings('ignore')"
   ]
  },
  {
   "cell_type": "code",
   "execution_count": 3,
   "metadata": {},
   "outputs": [],
   "source": [
    "#importing the data\n",
    "news = pd.read_csv('./dataset_processed/fakeNews_titleStemming_Sampled.csv', index_col=0)\n",
    "news.reset_index(inplace=True)"
   ]
  },
  {
   "cell_type": "code",
   "execution_count": 4,
   "metadata": {},
   "outputs": [],
   "source": [
    "#recreating predictor and target variables\n",
    "\n",
    "from sklearn.model_selection import train_test_split\n",
    "train_news, test_news = train_test_split(news, test_size=0.2, \n",
    "                                         random_state=7)\n",
    "\n",
    "train_news_predictors = train_news.drop(columns = ['title', 'label'])\n",
    "train_news_target = train_news['label']\n",
    "test_news_predictors = test_news.drop(columns = ['title', 'label'])\n",
    "test_news_target = test_news['label']"
   ]
  },
  {
   "cell_type": "code",
   "execution_count": 6,
   "metadata": {},
   "outputs": [
    {
     "name": "stdout",
     "output_type": "stream",
     "text": [
      "Train Accuracy for RNN model is 0.8975\n",
      "Test Accuracy for RNN model is 0.82\n",
      "Train F1 Score for RNN model is 0.8955247650899825\n",
      "Test F1 Score for RNN model is 0.8139727159983463\n"
     ]
    }
   ],
   "source": [
    "from sklearn.linear_model import LogisticRegression\n",
    "from sklearn.tree import DecisionTreeClassifier\n",
    "from sklearn.neighbors import KNeighborsClassifier\n",
    "\n",
    "## Create list of models in the ensemble\n",
    "base_models = [('logreg', LogisticRegression(penalty='none')),\n",
    "              ('tree', DecisionTreeClassifier(max_depth=5)),\n",
    "              ('knn', KNeighborsClassifier(n_neighbors=20))]\n",
    "\n",
    "## Final model used to aggregate predicted probs\n",
    "my_final_estimator = DecisionTreeClassifier(max_depth=3)\n",
    "\n",
    "## Create stack\n",
    "from sklearn.ensemble import StackingClassifier\n",
    "my_stack = StackingClassifier(estimators = base_models, final_estimator = my_final_estimator, \n",
    "                              stack_method ='predict_proba', cv=5)\n",
    "\n",
    "## Fit and Evaluate (cv is done internally in StackingClassifier)\n",
    "fitted_stack = my_stack.fit(train_news_predictors, train_news_target)\n",
    "train_news_target_predicted = fitted_stack.predict(train_news_predictors)\n",
    "test_news_target_predicted = fitted_stack.predict(test_news_predictors)\n",
    "\n",
    "# Accuracy\n",
    "from sklearn.metrics import accuracy_score\n",
    "train_accuracy_rnn = accuracy_score(train_news_target, train_news_target_predicted)\n",
    "test_accuracy_rnn = accuracy_score(test_news_target, test_news_target_predicted)\n",
    "print(f'Train Accuracy for RNN model is {train_accuracy_rnn}')\n",
    "print(f'Test Accuracy for RNN model is {test_accuracy_rnn}')\n",
    "\n",
    "# TODO: confusion matrix\n",
    "\n",
    "# F1 Score\n",
    "from sklearn.metrics import f1_score\n",
    "train_f1_rnn = f1_score(train_news_target, \n",
    "                        train_news_target_predicted, average='macro')\n",
    "test_f1_rnn = f1_score(test_news_target, \n",
    "                        test_news_target_predicted, average='macro')\n",
    "print(f'Train F1 Score for RNN model is {train_f1_rnn}')\n",
    "print(f'Test F1 Score for RNN model is {test_f1_rnn}')\n",
    "\n",
    "\n",
    "\n"
   ]
  },
  {
   "cell_type": "code",
   "execution_count": 8,
   "metadata": {},
   "outputs": [
    {
     "name": "stdout",
     "output_type": "stream",
     "text": [
      "Train Accuracy for RNN model is 0.91\n",
      "Test Accuracy for RNN model is 0.9\n",
      "Train F1 Score for RNN model is 0.9094561711278366\n",
      "Test F1 Score for RNN model is 0.8996386993175431\n"
     ]
    }
   ],
   "source": [
    "from sklearn.linear_model import LogisticRegression\n",
    "from sklearn.tree import DecisionTreeClassifier\n",
    "from sklearn.neighbors import KNeighborsClassifier\n",
    "\n",
    "## Create list of models in the ensemble\n",
    "base_models = [('tree1', DecisionTreeClassifier(max_depth=3)),\n",
    "              ('tree2', DecisionTreeClassifier(max_depth=4)),\n",
    "              ('tree3', DecisionTreeClassifier(max_depth=5))]\n",
    "\n",
    "## Final model used to aggregate predicted probs\n",
    "my_final_estimator = DecisionTreeClassifier(max_depth=3)\n",
    "\n",
    "## Create stack\n",
    "from sklearn.ensemble import StackingClassifier\n",
    "my_stack = StackingClassifier(estimators = base_models, final_estimator = my_final_estimator, \n",
    "                              stack_method ='predict_proba', cv=5)\n",
    "\n",
    "## Fit and Evaluate (cv is done internally in StackingClassifier)\n",
    "fitted_stack = my_stack.fit(train_news_predictors, train_news_target)\n",
    "train_news_target_predicted = fitted_stack.predict(train_news_predictors)\n",
    "test_news_target_predicted = fitted_stack.predict(test_news_predictors)\n",
    "\n",
    "# Accuracy\n",
    "from sklearn.metrics import accuracy_score\n",
    "train_accuracy_rnn = accuracy_score(train_news_target, train_news_target_predicted)\n",
    "test_accuracy_rnn = accuracy_score(test_news_target, test_news_target_predicted)\n",
    "print(f'Train Accuracy for RNN model is {train_accuracy_rnn}')\n",
    "print(f'Test Accuracy for RNN model is {test_accuracy_rnn}')\n",
    "\n",
    "# TODO: confusion matrix\n",
    "\n",
    "# F1 Score\n",
    "from sklearn.metrics import f1_score\n",
    "train_f1_rnn = f1_score(train_news_target, \n",
    "                        train_news_target_predicted, average='macro')\n",
    "test_f1_rnn = f1_score(test_news_target, \n",
    "                        test_news_target_predicted, average='macro')\n",
    "print(f'Train F1 Score for RNN model is {train_f1_rnn}')\n",
    "print(f'Test F1 Score for RNN model is {test_f1_rnn}')\n",
    "\n",
    "\n",
    "\n"
   ]
  },
  {
   "cell_type": "code",
   "execution_count": null,
   "metadata": {},
   "outputs": [],
   "source": []
  }
 ],
 "metadata": {
  "kernelspec": {
   "display_name": "Python 3",
   "language": "python",
   "name": "python3"
  },
  "language_info": {
   "codemirror_mode": {
    "name": "ipython",
    "version": 3
   },
   "file_extension": ".py",
   "mimetype": "text/x-python",
   "name": "python",
   "nbconvert_exporter": "python",
   "pygments_lexer": "ipython3",
   "version": "3.9.8"
  },
  "orig_nbformat": 4
 },
 "nbformat": 4,
 "nbformat_minor": 2
}
